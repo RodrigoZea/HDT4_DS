{
 "cells": [
  {
   "cell_type": "markdown",
   "metadata": {},
   "source": [
    "# HDT4 PREDICCIÓN"
   ]
  },
  {
   "cell_type": "code",
   "execution_count": 33,
   "metadata": {},
   "outputs": [],
   "source": [
    "import nltk\n",
    "from nltk import lm\n",
    "from nltk.corpus import stopwords\n",
    "from nltk.book import FreqDist\n",
    "from nltk.util import ngrams\n",
    "from nltk import word_tokenize, sent_tokenize\n",
    "from nltk.lm.preprocessing import padded_everygram_pipeline\n",
    "from nltk.lm import MLE\n",
    "from nltk.lm.models import Laplace\n",
    "import matplotlib.pyplot as plt\n",
    "from itertools import chain"
   ]
  },
  {
   "cell_type": "code",
   "execution_count": 3,
   "metadata": {},
   "outputs": [
    {
     "name": "stdout",
     "output_type": "stream",
     "text": [
      "showing info https://raw.githubusercontent.com/nltk/nltk_data/gh-pages/index.xml\n"
     ]
    },
    {
     "data": {
      "text/plain": [
       "True"
      ]
     },
     "execution_count": 3,
     "metadata": {},
     "output_type": "execute_result"
    }
   ],
   "source": [
    "nltk.download()"
   ]
  },
  {
   "cell_type": "code",
   "execution_count": 2,
   "metadata": {},
   "outputs": [],
   "source": [
    "tweets = []\n",
    "blogs = []\n",
    "news = []\n",
    "\n",
    "# tweets\n",
    "with open('./CleanData/en_US.twitter.txt.txt', 'r') as f:\n",
    "    tweets = f.read()\n",
    "\n",
    "with open('./CleanData/twitter.txt', 'w') as f:\n",
    "    f.write(tweets)\n",
    "    \n",
    "with open('./CleanData/twitter.txt', 'r') as f:\n",
    "    tweets = f.read()\n",
    "    \n",
    "# blogs\n",
    "with open('./CleanData/en_US.blogs.txt.txt', 'r') as f:\n",
    "    blogs = f.read()\n",
    "\n",
    "with open('./CleanData/blogs.txt', 'w') as f:\n",
    "    f.write(blogs)\n",
    "    \n",
    "with open('./CleanData/blogs.txt', 'r') as f:\n",
    "    blogs = f.read()\n",
    "    \n",
    "# news\n",
    "with open('./CleanData/en_US.news.txt.txt', 'r') as f:\n",
    "    news = f.read()\n",
    "\n",
    "with open('./CleanData/news.txt', 'w') as f:\n",
    "    f.write(news)\n",
    "    \n",
    "with open('./CleanData/news.txt', 'r') as f:\n",
    "    news = f.read()"
   ]
  },
  {
   "cell_type": "code",
   "execution_count": 3,
   "metadata": {},
   "outputs": [
    {
     "name": "stdout",
     "output_type": "stream",
     "text": [
      "7744557\n",
      "10036716\n",
      "742861\n"
     ]
    }
   ],
   "source": [
    "print(len(tweets))\n",
    "print(len(blogs))\n",
    "print(len(news))"
   ]
  },
  {
   "cell_type": "markdown",
   "metadata": {},
   "source": [
    "- Juntar los 3 textos para entrenar los distintos modelos."
   ]
  },
  {
   "cell_type": "code",
   "execution_count": 4,
   "metadata": {},
   "outputs": [
    {
     "name": "stdout",
     "output_type": "stream",
     "text": [
      "18524134\n"
     ]
    }
   ],
   "source": [
    "all_texts = tweets + blogs + news\n",
    "print(len(all_texts))"
   ]
  },
  {
   "cell_type": "markdown",
   "metadata": {},
   "source": [
    "### N Gramas"
   ]
  },
  {
   "cell_type": "code",
   "execution_count": 5,
   "metadata": {},
   "outputs": [],
   "source": [
    "words = word_tokenize(all_texts)\n",
    "tweets_1_gram = list(ngrams(words, 1))\n",
    "tweets_2_gram = list(ngrams(words, 2))\n",
    "tweets_3_gram = list(ngrams(words, 3))"
   ]
  },
  {
   "cell_type": "code",
   "execution_count": 6,
   "metadata": {},
   "outputs": [
    {
     "data": {
      "text/plain": [
       "[('punk',), ('i',), ('unfollowed',), ('kanye',), ('because',)]"
      ]
     },
     "execution_count": 6,
     "metadata": {},
     "output_type": "execute_result"
    }
   ],
   "source": [
    "tweets_1_gram[:5]"
   ]
  },
  {
   "cell_type": "code",
   "execution_count": 7,
   "metadata": {},
   "outputs": [
    {
     "data": {
      "text/plain": [
       "[('punk', 'i'),\n",
       " ('i', 'unfollowed'),\n",
       " ('unfollowed', 'kanye'),\n",
       " ('kanye', 'because'),\n",
       " ('because', 'of')]"
      ]
     },
     "execution_count": 7,
     "metadata": {},
     "output_type": "execute_result"
    }
   ],
   "source": [
    "tweets_2_gram[:5]"
   ]
  },
  {
   "cell_type": "code",
   "execution_count": 8,
   "metadata": {},
   "outputs": [
    {
     "data": {
      "text/plain": [
       "[('punk', 'i', 'unfollowed'),\n",
       " ('i', 'unfollowed', 'kanye'),\n",
       " ('unfollowed', 'kanye', 'because'),\n",
       " ('kanye', 'because', 'of'),\n",
       " ('because', 'of', 'that')]"
      ]
     },
     "execution_count": 8,
     "metadata": {},
     "output_type": "execute_result"
    }
   ],
   "source": [
    "tweets_3_gram[:5]"
   ]
  },
  {
   "cell_type": "markdown",
   "metadata": {},
   "source": [
    "#### Tokenizacion de texto"
   ]
  },
  {
   "cell_type": "code",
   "execution_count": 9,
   "metadata": {},
   "outputs": [],
   "source": [
    "tokenized_text = [list(map(str.lower, word_tokenize(sent))) for sent in sent_tokenize(all_texts)]"
   ]
  },
  {
   "cell_type": "markdown",
   "metadata": {},
   "source": [
    "## Modelos de predicción"
   ]
  },
  {
   "cell_type": "markdown",
   "metadata": {},
   "source": [
    "### MLE"
   ]
  },
  {
   "cell_type": "markdown",
   "metadata": {},
   "source": [
    "#### Entrenamiento"
   ]
  },
  {
   "cell_type": "code",
   "execution_count": 10,
   "metadata": {},
   "outputs": [],
   "source": [
    "train, vocab = padded_everygram_pipeline(4, tokenized_text)"
   ]
  },
  {
   "cell_type": "code",
   "execution_count": 11,
   "metadata": {},
   "outputs": [],
   "source": [
    "mle = MLE(4)"
   ]
  },
  {
   "cell_type": "code",
   "execution_count": 12,
   "metadata": {},
   "outputs": [
    {
     "name": "stdout",
     "output_type": "stream",
     "text": [
      "<Vocabulary with cutoff=1 unk_label='<UNK>' and 114388 items>\n"
     ]
    }
   ],
   "source": [
    "mle.fit(train, vocab)\n",
    "print(mle.vocab)"
   ]
  },
  {
   "cell_type": "markdown",
   "metadata": {},
   "source": [
    "### Kneser-Ney"
   ]
  },
  {
   "cell_type": "code",
   "execution_count": 13,
   "metadata": {},
   "outputs": [],
   "source": [
    "from nltk.lm.models import KneserNeyInterpolated\n",
    "kneser = KneserNeyInterpolated(4)"
   ]
  },
  {
   "cell_type": "code",
   "execution_count": 14,
   "metadata": {},
   "outputs": [
    {
     "name": "stdout",
     "output_type": "stream",
     "text": [
      "<Vocabulary with cutoff=1 unk_label='<UNK>' and 114388 items>\n"
     ]
    }
   ],
   "source": [
    "kn_train, kn_vocab = padded_everygram_pipeline(4, tokenized_text)\n",
    "kneser.fit(kn_train, kn_vocab)\n",
    "print(kneser.vocab)"
   ]
  },
  {
   "cell_type": "code",
   "execution_count": 15,
   "metadata": {},
   "outputs": [
    {
     "data": {
      "text/plain": [
       "0.7907372155097071"
      ]
     },
     "execution_count": 15,
     "metadata": {},
     "output_type": "execute_result"
    }
   ],
   "source": [
    "kneser.score('you', 'how are'.split())"
   ]
  },
  {
   "cell_type": "markdown",
   "metadata": {},
   "source": [
    "### Laplace"
   ]
  },
  {
   "cell_type": "code",
   "execution_count": 34,
   "metadata": {},
   "outputs": [
    {
     "data": {
      "text/plain": [
       "0.0016227251313011464"
      ]
     },
     "execution_count": 34,
     "metadata": {},
     "output_type": "execute_result"
    }
   ],
   "source": [
    "lp_train, lp_vocab = padded_everygram_pipeline(4, tokenized_text)\n",
    "laplace = Laplace(4)\n",
    "laplace.fit(lp_train, lp_vocab)\n",
    "laplace.score('you', 'how are'.split())"
   ]
  },
  {
   "cell_type": "markdown",
   "metadata": {},
   "source": [
    "## Funcion de posibles 3 palabras"
   ]
  },
  {
   "cell_type": "markdown",
   "metadata": {},
   "source": [
    "### MLE"
   ]
  },
  {
   "cell_type": "code",
   "execution_count": 16,
   "metadata": {},
   "outputs": [
    {
     "name": "stdout",
     "output_type": "stream",
     "text": [
      "Ingrese la frase: i am\n"
     ]
    }
   ],
   "source": [
    "frase = input(\"Ingrese la frase: \")\n",
    "predictor = mle.generate(3, frase.split())"
   ]
  },
  {
   "cell_type": "code",
   "execution_count": 17,
   "metadata": {},
   "outputs": [
    {
     "name": "stdout",
     "output_type": "stream",
     "text": [
      "so 0.05670391061452514\n",
      "sweaty 0.0\n",
      "from 0.0025139664804469273\n"
     ]
    }
   ],
   "source": [
    "for x in predictor:\n",
    "    print(x,mle.score(x, frase.split())) "
   ]
  },
  {
   "cell_type": "markdown",
   "metadata": {},
   "source": [
    "### Kneser-Ney"
   ]
  },
  {
   "cell_type": "code",
   "execution_count": 18,
   "metadata": {},
   "outputs": [
    {
     "name": "stdout",
     "output_type": "stream",
     "text": [
      "Ingrese la frase: i am\n"
     ]
    }
   ],
   "source": [
    "frase = input(\"Ingrese la frase: \")\n",
    "predictor_kn = kneser.generate(3, frase.split())"
   ]
  },
  {
   "cell_type": "code",
   "execution_count": 19,
   "metadata": {},
   "outputs": [
    {
     "name": "stdout",
     "output_type": "stream",
     "text": [
      "not 0.06994577545527271\n",
      "promising 4.693140763017691e-09\n",
      "weekly 4.693140763017691e-09\n"
     ]
    }
   ],
   "source": [
    "for x in predictor_kn:\n",
    "    print(x, kneser.score(x, frase.split())) "
   ]
  },
  {
   "cell_type": "code",
   "execution_count": 35,
   "metadata": {},
   "outputs": [
    {
     "name": "stdout",
     "output_type": "stream",
     "text": [
      "Ingrese la frase: i really want\n"
     ]
    }
   ],
   "source": [
    "frase = input(\"Ingrese la frase: \")\n",
    "predictor_lp = laplace.generate(3, frase.split())"
   ]
  },
  {
   "cell_type": "code",
   "execution_count": 36,
   "metadata": {},
   "outputs": [
    {
     "name": "stdout",
     "output_type": "stream",
     "text": [
      "to 0.00033201981634061736\n",
      "avoid 8.737363587910984e-06\n",
      "it 3.4949454351643935e-05\n"
     ]
    }
   ],
   "source": [
    "for x in predictor_lp:\n",
    "    print(x, laplace.score(x, frase.split()))"
   ]
  }
 ],
 "metadata": {
  "kernelspec": {
   "display_name": "Python 3",
   "language": "python",
   "name": "python3"
  },
  "language_info": {
   "codemirror_mode": {
    "name": "ipython",
    "version": 3
   },
   "file_extension": ".py",
   "mimetype": "text/x-python",
   "name": "python",
   "nbconvert_exporter": "python",
   "pygments_lexer": "ipython3",
   "version": "3.6.9"
  }
 },
 "nbformat": 4,
 "nbformat_minor": 4
}
